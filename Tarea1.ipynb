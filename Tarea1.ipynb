{
  "cells": [
    {
      "cell_type": "markdown",
      "metadata": {
        "id": "view-in-github",
        "colab_type": "text"
      },
      "source": [
        "<a href=\"https://colab.research.google.com/github/andresrobayoc91/Dimplomado_Ciencia_Datos/blob/main/Tarea1.ipynb\" target=\"_parent\"><img src=\"https://colab.research.google.com/assets/colab-badge.svg\" alt=\"Open In Colab\"/></a>"
      ]
    },
    {
      "cell_type": "markdown",
      "id": "1c5a7a76-b301-4336-a9b7-40d2e950a7bd",
      "metadata": {
        "id": "1c5a7a76-b301-4336-a9b7-40d2e950a7bd"
      },
      "source": [
        "# ¿Qué es la Varianza?"
      ]
    },
    {
      "cell_type": "markdown",
      "id": "25ba0532-2c6e-4077-a222-deef96557a15",
      "metadata": {
        "id": "25ba0532-2c6e-4077-a222-deef96557a15"
      },
      "source": [
        "<img src=https://cdn-icons-png.flaticon.com/512/6360/6360908.png>"
      ]
    },
    {
      "cell_type": "markdown",
      "id": "406cd877-cb42-46df-8e5d-c10400a8f8d6",
      "metadata": {
        "id": "406cd877-cb42-46df-8e5d-c10400a8f8d6"
      },
      "source": [
        "## ¿Quién es Andrés Robayo?"
      ]
    },
    {
      "cell_type": "markdown",
      "id": "bca1c262-618b-47eb-8db7-b122a6e5ea34",
      "metadata": {
        "id": "bca1c262-618b-47eb-8db7-b122a6e5ea34"
      },
      "source": [
        "Andrés es economista de graduado de la **Universidad Nacional**. Actualmente trabaja en el sistema financiero, específicamente en el Fondo para el Financiamiento del Sector Agropecuario ([FINAGRO](https://www.finagro.com.co/)), allí se desempeña como analista en áreas relacionadas con administración de portafolios de inversión y análisis del mercado de capitales. "
      ]
    },
    {
      "cell_type": "code",
      "execution_count": null,
      "id": "6640303a-b3ea-4693-8148-b8a20ad902e5",
      "metadata": {
        "id": "6640303a-b3ea-4693-8148-b8a20ad902e5",
        "outputId": "51aeb8ec-000b-4ce5-8922-373edbda9426"
      },
      "outputs": [
        {
          "data": {
            "text/html": [
              "<img src=\"https://media-exp1.licdn.com/dms/image/C4E03AQFOczRB1gWWBA/profile-displayphoto-shrink_800_800/0/1599703908126?e=2147483647&v=beta&t=h4TNpLMynaToLv459WDWzN20zReFQkaFYZDEuv02Hxk\" width=\"300\" height=\"300\"/>"
            ],
            "text/plain": [
              "<IPython.core.display.Image object>"
            ]
          },
          "execution_count": 12,
          "metadata": {},
          "output_type": "execute_result"
        }
      ],
      "source": [
        "#import image module\n",
        "from IPython.display import Image\n",
        "  \n",
        "# get the image\n",
        "Image(url=\"https://media-exp1.licdn.com/dms/image/C4E03AQFOczRB1gWWBA/profile-displayphoto-shrink_800_800/0/1599703908126?e=2147483647&v=beta&t=h4TNpLMynaToLv459WDWzN20zReFQkaFYZDEuv02Hxk\", width=300, height=300)\n",
        "\n"
      ]
    },
    {
      "cell_type": "markdown",
      "id": "bb20e38c-0d4b-4bcf-a7dc-dc8c584b42d0",
      "metadata": {
        "id": "bb20e38c-0d4b-4bcf-a7dc-dc8c584b42d0"
      },
      "source": [
        "La varianza es una medida de dispersión basada en la diferencia de cada dato con la media aritmética. Para una muestra, la desviación respecto a la media se expresa como $(x_i-\\overline{x})$; para una población es $(x_i-\\mu)$. "
      ]
    },
    {
      "cell_type": "markdown",
      "id": "8b547567-84f1-4f3a-b69c-b2cec732c411",
      "metadata": {
        "id": "8b547567-84f1-4f3a-b69c-b2cec732c411"
      },
      "source": [
        "Cuando se tiene la totalidad de los datos de la población, el promedio de las desviaciones elevadas al cuadrado se denomina *varianza poblacional* y se representa de la siguiente forma:"
      ]
    },
    {
      "cell_type": "markdown",
      "id": "a6fbe18d-ea7f-4156-80b8-258de4c290a7",
      "metadata": {
        "id": "a6fbe18d-ea7f-4156-80b8-258de4c290a7"
      },
      "source": [
        "$$\\sigma^2=\\frac{\\Sigma(x_i-\\mu)^2}{N}$$"
      ]
    },
    {
      "cell_type": "markdown",
      "id": "75e34221-cea9-439a-bd8d-2d60a17e8ab9",
      "metadata": {
        "id": "75e34221-cea9-439a-bd8d-2d60a17e8ab9"
      },
      "source": [
        "La varianza de la muestra tiene como objetivo convertirse en un estimador de la variación para la población. Esta se define como la suma de las desviaciones elevadas al cuadrado, distribuidas entre el tamaño de la muestra, menos uno. Se expresa de la siguiente forma:"
      ]
    },
    {
      "cell_type": "markdown",
      "id": "054407e5-c093-469a-a212-a9aa470bcb7b",
      "metadata": {
        "id": "054407e5-c093-469a-a212-a9aa470bcb7b"
      },
      "source": [
        "$$s^2=\\frac{\\Sigma(x_i-\\mu)^2}{n-1}$$"
      ]
    },
    {
      "cell_type": "markdown",
      "id": "543c490f-3065-4e83-b6c5-a337a7cb983e",
      "metadata": {
        "id": "543c490f-3065-4e83-b6c5-a337a7cb983e"
      },
      "source": [
        "# Referencias"
      ]
    },
    {
      "cell_type": "markdown",
      "id": "9afe6976-e662-41e2-8988-9dd7e99db402",
      "metadata": {
        "id": "9afe6976-e662-41e2-8988-9dd7e99db402"
      },
      "source": [
        "[Gujarati, Damodar N., y Dawn C. Porter. Econometría. 5a.ed.--. México: McGraw Hill, 2010.](https://fvela.files.wordpress.com/2012/10/econometria-damodar-n-gujarati-5ta-ed.pdf)"
      ]
    }
  ],
  "metadata": {
    "kernelspec": {
      "display_name": "Python 3",
      "language": "python",
      "name": "python3"
    },
    "language_info": {
      "codemirror_mode": {
        "name": "ipython",
        "version": 3
      },
      "file_extension": ".py",
      "mimetype": "text/x-python",
      "name": "python",
      "nbconvert_exporter": "python",
      "pygments_lexer": "ipython3",
      "version": "3.8.8"
    },
    "colab": {
      "provenance": [],
      "include_colab_link": true
    }
  },
  "nbformat": 4,
  "nbformat_minor": 5
}